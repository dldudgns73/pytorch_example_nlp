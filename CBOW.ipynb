{
 "cells": [
  {
   "attachments": {},
   "cell_type": "markdown",
   "metadata": {},
   "source": [
    "# Word2Vec\n",
    "\n",
    "사람이 사용하는 단어를 컴퓨터가 처리할 수 있도록 특정 차원의 벡터로 만들어 주는 word embedding의 대표적인 방법.\n",
    "\n",
    "## One-Hot Vector, One-Hot Encoding\n",
    "\n",
    "We    = [1, 0, 0, 0, 0]\n",
    "\n",
    "are   = [0, 1, 0, 0, 0]\n",
    "\n",
    "about = [0, 0, 1, 0, 0]\n",
    "\n",
    "to    = [0, 0, 0, 1, 0]\n",
    "\n",
    "study = [0, 0, 0, 0, 1]\n",
    "\n",
    "벡터의 하나의 원소만 '1'이고, 나머지는 모두 '0'\n",
    "\n",
    "단어들간 유사도를 나타낼 수 없음.\n",
    "문장 데이터가 많아 질수록, 사전의 크기가 커짐 >> 모델이 느려지고, 비효율적임.\n",
    "\n",
    "\n",
    "## Distributed Representation (분산 표현)\n",
    "\n",
    "One-Hot encoding은 sparse representaion (희소 표현)\n",
    "\n",
    "#### 분산표현은 다차원 공간에 벡터화를 통해서 비슷한 위치에서 등장하는 단어들은 비슷한 의미를 가지도록 함.\n",
    "\n",
    "단어의 개수 10000개,\n",
    "\n",
    "만약 people의 인덱스가 4라면 희소표현에서는 10000개 중에 하나의 원소만 '1' 나머지는 '0'\n",
    "\n",
    "ex) people = [0, 0, 0, 0, 1, 0, 0, ..., 0]\n",
    "\n",
    "\n",
    "\n",
    "분산 표현에서는 실수 하나의 값만 바뀌어도 다른 단어로 인식할 수 있음. 즉, 10000개 보다 작은 100, 150, 300차원 등의 비교적 작은 크기의 벡터로 표현 할 수 있고, 단어를 여러차원에 분산하여 표현하기 때문에, 단어 간 유사도를 계산할 수 있음.\n",
    "\n",
    "ex) people = [0.2, 0.5, 0.1, 0.2 ..., 0.6]\n",
    "\n",
    "![python image2](https://shuuki4.files.wordpress.com/2016/01/vector.png)\n",
    "\n",
    "#### A word2vec embedding of tokens from C/C++ source code\n",
    "(https://www.researchgate.net/figure/A-word2vec-embedding-of-tokens-from-C-C-source-code_fig3_328074198)\n",
    "![python image2](https://www.researchgate.net/profile/Erik_Antelman/publication/328074198/figure/fig3/AS:678016141234185@1538663053762/A-word2vec-embedding-of-tokens-from-C-C-source-code.png)\n",
    "#### 단어의 유사도를 이용한 연산\n",
    "\n",
    "http://w.elnn.kr/search/\n",
    "\n",
    "고양이 + 애교 = 강아지\n",
    "\n",
    "한국 - 서울 + 도쿄 = 일본\n",
    "\n",
    "박찬호 - 야구 + 축구 = 호나우두\n",
    "\n",
    "## CBOW(Continuous Bag of Words)\n",
    "\n",
    "주변 단어를 통해서 주어진 단어가 무엇인지 찾는 것\n",
    "\n",
    "앞 뒤의 n개의 단어를 입력으로 target 단어를 예측\n",
    "\n",
    "#### 아침을 안먹었더니 __가 너무 고프다.\n",
    "\n",
    "![python image2](https://shuuki4.files.wordpress.com/2016/01/cbow.png?w=520&h=600)\n",
    "\n"
   ]
  },
  {
   "cell_type": "code",
   "execution_count": 81,
   "metadata": {},
   "outputs": [
    {
     "data": {
      "text/plain": [
       "<torch._C.Generator at 0x5739d30>"
      ]
     },
     "execution_count": 81,
     "metadata": {},
     "output_type": "execute_result"
    }
   ],
   "source": [
    "#https://pytorch.org/tutorials/beginner/nlp/word_embeddings_tutorial.html\n",
    "import torch\n",
    "from torch.autograd import Variable\n",
    "import torch.nn as nn\n",
    "import torch.nn.functional as F\n",
    "import torch.optim as optim\n",
    "\n",
    "torch.manual_seed(1)"
   ]
  },
  {
   "cell_type": "code",
   "execution_count": 82,
   "metadata": {},
   "outputs": [
    {
     "name": "stdout",
     "output_type": "stream",
     "text": [
      "vocab_size: 49\n",
      "vocab: {'that', 'In', 'study', 'called', 'a', 'Computational', 'computer', 'spells.', 'they', 'pattern', 'People', 'direct', 'is', 'effect,', 'processes', 'data.', 'program.', 'process.', 'we', 'other', 'processes.', 'the', 'directed', 'of', 'about', 'programs', 'process', 'The', 'by', 'beings', 'evolve,', 'with', 'computers.', 'things', 'conjure', 'manipulate', 'spirits', 'are', 'evolution', 'to', 'create', 'our', 'idea', 'inhabit', 'rules', 'As', 'abstract', 'computational', 'We'}\n",
      "word2id: {'that': 0, 'In': 1, 'study': 2, 'called': 3, 'a': 4, 'Computational': 5, 'computer': 6, 'spells.': 7, 'they': 8, 'pattern': 9, 'People': 10, 'direct': 11, 'is': 12, 'effect,': 13, 'processes': 14, 'data.': 15, 'program.': 16, 'process.': 17, 'we': 18, 'other': 19, 'processes.': 20, 'the': 21, 'directed': 22, 'of': 23, 'about': 24, 'programs': 25, 'process': 26, 'The': 27, 'by': 28, 'beings': 29, 'evolve,': 30, 'with': 31, 'computers.': 32, 'things': 33, 'conjure': 34, 'manipulate': 35, 'spirits': 36, 'are': 37, 'evolution': 38, 'to': 39, 'create': 40, 'our': 41, 'idea': 42, 'inhabit': 43, 'rules': 44, 'As': 45, 'abstract': 46, 'computational': 47, 'We': 48}\n"
     ]
    }
   ],
   "source": [
    "CONTEXT_SIZE = 2  # 2 words to the left, 2 to the right\n",
    "text = \"\"\"We are about to study the idea of a computational process.\n",
    "Computational processes are abstract beings that inhabit computers.\n",
    "As they evolve, processes manipulate other abstract things called data.\n",
    "The evolution of a process is directed by a pattern of rules\n",
    "called a program. People create programs to direct processes. In effect,\n",
    "we conjure the spirits of the computer with our spells.\"\"\".split()\n",
    "\n",
    "# By deriving a set from `raw_text`, we deduplicate the array\n",
    "vocab = set(text)\n",
    "vocab_size = len(vocab)\n",
    "\n",
    "w2i = {w: i for i, w in enumerate(vocab)}\n",
    "i2w = {i: w for i, w in enumerate(vocab)}\n",
    "\n",
    "print('vocab_size:', vocab_size)\n",
    "print('vocab:', vocab)\n",
    "print('word2id:', w2i)"
   ]
  },
  {
   "cell_type": "code",
   "execution_count": 83,
   "metadata": {},
   "outputs": [
    {
     "name": "stdout",
     "output_type": "stream",
     "text": [
      "cbow sample >>  [(['We', 'are', 'to', 'study'], 'about'), (['are', 'about', 'study', 'the'], 'to')]\n"
     ]
    }
   ],
   "source": [
    "def create_cbow_dataset(text):\n",
    "    data = []\n",
    "    for i in range(CONTEXT_SIZE, len(text) - CONTEXT_SIZE):\n",
    "        context = [text[i - CONTEXT_SIZE], text[i - 1],\n",
    "                   text[i + 1], text[i + CONTEXT_SIZE]]\n",
    "        target = text[i]\n",
    "        data.append((context, target))\n",
    "    return data\n",
    "\n",
    "cbow_train = create_cbow_dataset(text)\n",
    "print('cbow sample >> ', cbow_train[:2])"
   ]
  },
  {
   "cell_type": "code",
   "execution_count": 84,
   "metadata": {},
   "outputs": [],
   "source": [
    "class CBOW(nn.Module):\n",
    "    def __init__(self, vocab_size, embed_dim, context_size, hidden_dim):\n",
    "        super(CBOW, self).__init__()\n",
    "        self.embeddings = nn.Embedding(vocab_size, embed_dim)\n",
    "        self.linear1 = nn.Linear(2*context_size*embed_dim, hidden_dim)\n",
    "        self.linear2 = nn.Linear(hidden_dim, vocab_size)\n",
    "        \n",
    "    def forward(self, inputs):\n",
    "        embedded = self.embeddings(inputs)\n",
    "        embedded = embedded.view((1, -1))\n",
    "        hid = F.relu(self.linear1(embedded))\n",
    "        out = self.linear2(hid)\n",
    "        log_probs = F.log_softmax(out, dim=1)\n",
    "        return log_probs"
   ]
  },
  {
   "cell_type": "markdown",
   "metadata": {},
   "source": [
    "https://pytorch.org/docs/stable/nn.html?highlight=crossentropyloss#torch.nn.CrossEntropyLoss\n",
    "#### This criterion combines :func:`nn.LogSoftmax` and :func:`nn.NLLLoss` in one single class.\n",
    "\n",
    "#### (log)softmax + NLLLoss = CrossEntropyLoss"
   ]
  },
  {
   "cell_type": "code",
   "execution_count": 85,
   "metadata": {},
   "outputs": [
    {
     "name": "stdout",
     "output_type": "stream",
     "text": [
      "CBOW(\n",
      "  (embeddings): Embedding(49, 100)\n",
      "  (linear1): Linear(in_features=400, out_features=64, bias=True)\n",
      "  (linear2): Linear(in_features=64, out_features=49, bias=True)\n",
      ")\n",
      "epcoh: 0 \t>>\t average loss:  3.936885356903076\n",
      "epcoh: 1 \t>>\t average loss:  3.8676416873931885\n",
      "epcoh: 2 \t>>\t average loss:  3.8004651069641113\n",
      "epcoh: 3 \t>>\t average loss:  3.7346808910369873\n",
      "epcoh: 4 \t>>\t average loss:  3.669989824295044\n",
      "epcoh: 5 \t>>\t average loss:  3.606792688369751\n",
      "epcoh: 6 \t>>\t average loss:  3.544250249862671\n",
      "epcoh: 7 \t>>\t average loss:  3.4818239212036133\n",
      "epcoh: 8 \t>>\t average loss:  3.4201083183288574\n",
      "epcoh: 9 \t>>\t average loss:  3.3583338260650635\n",
      "epcoh: 10 \t>>\t average loss:  3.296445608139038\n",
      "epcoh: 11 \t>>\t average loss:  3.2351536750793457\n",
      "epcoh: 12 \t>>\t average loss:  3.173574447631836\n",
      "epcoh: 13 \t>>\t average loss:  3.1128151416778564\n",
      "epcoh: 14 \t>>\t average loss:  3.051694631576538\n",
      "epcoh: 15 \t>>\t average loss:  2.9904677867889404\n",
      "epcoh: 16 \t>>\t average loss:  2.9286184310913086\n",
      "epcoh: 17 \t>>\t average loss:  2.866664409637451\n",
      "epcoh: 18 \t>>\t average loss:  2.8035576343536377\n",
      "epcoh: 19 \t>>\t average loss:  2.740678310394287\n",
      "epcoh: 20 \t>>\t average loss:  2.677485704421997\n",
      "epcoh: 21 \t>>\t average loss:  2.6138813495635986\n",
      "epcoh: 22 \t>>\t average loss:  2.5499699115753174\n",
      "epcoh: 23 \t>>\t average loss:  2.486522912979126\n",
      "epcoh: 24 \t>>\t average loss:  2.4223427772521973\n",
      "epcoh: 25 \t>>\t average loss:  2.3586690425872803\n",
      "epcoh: 26 \t>>\t average loss:  2.294445514678955\n",
      "epcoh: 27 \t>>\t average loss:  2.2304303646087646\n",
      "epcoh: 28 \t>>\t average loss:  2.166787624359131\n",
      "epcoh: 29 \t>>\t average loss:  2.103116273880005\n"
     ]
    }
   ],
   "source": [
    "embed_dim = 100\n",
    "hidden_dim = 64\n",
    "learning_rate = 0.001\n",
    "n_epoch = 30\n",
    "\n",
    "def train_cbow():\n",
    "    losses = []\n",
    "    loss_fn = nn.NLLLoss()\n",
    "    model = CBOW(vocab_size, embed_dim, CONTEXT_SIZE, hidden_dim)\n",
    "    print(model)\n",
    "    optimizer = optim.SGD(model.parameters(), lr=learning_rate)\n",
    "\n",
    "    for epoch in range(n_epoch):\n",
    "        total_loss = .0\n",
    "        for context, target in cbow_train:\n",
    "            ctx_idxs = [w2i[w] for w in context]\n",
    "            ctx_var = Variable(torch.LongTensor(ctx_idxs))\n",
    "\n",
    "            model.zero_grad()\n",
    "            log_probs = model(ctx_var)\n",
    "\n",
    "            loss = loss_fn(log_probs, Variable(torch.LongTensor([w2i[target]])))\n",
    "\n",
    "            loss.backward()\n",
    "            optimizer.step()\n",
    "            \n",
    "            total_loss += loss.data\n",
    "        losses.append(total_loss)\n",
    "        \n",
    "        average_loss = (total_loss/len(cbow_train)).item()\n",
    "        print('epcoh:', epoch, '\\t>>\\t average loss: ', average_loss)\n",
    "        \n",
    "    return model, losses\n",
    "\n",
    "cbow_model, cbow_losses = train_cbow()"
   ]
  },
  {
   "cell_type": "code",
   "execution_count": 86,
   "metadata": {},
   "outputs": [
    {
     "name": "stdout",
     "output_type": "stream",
     "text": [
      "====Test CBOW===\n",
      "(predicted, label) : (about, about) True\n",
      "(predicted, label) : (to, to) True\n",
      "(predicted, label) : (study, study) True\n",
      "(predicted, label) : (the, the) True\n",
      "(predicted, label) : (idea, idea) True\n",
      "(predicted, label) : (of, of) True\n",
      "(predicted, label) : (a, a) True\n",
      "(predicted, label) : (computational, computational) True\n",
      "(predicted, label) : (process., process.) True\n",
      "(predicted, label) : (of, Computational) False\n",
      "(predicted, label) : (processes, processes) True\n",
      "(predicted, label) : (are, are) True\n",
      "(predicted, label) : (abstract, abstract) True\n",
      "(predicted, label) : (beings, beings) True\n",
      "(predicted, label) : (that, that) True\n",
      "(predicted, label) : (inhabit, inhabit) True\n",
      "(predicted, label) : (computers., computers.) True\n",
      "(predicted, label) : (As, As) True\n",
      "(predicted, label) : (they, they) True\n",
      "(predicted, label) : (of, evolve,) False\n",
      "(predicted, label) : (processes, processes) True\n",
      "(predicted, label) : (manipulate, manipulate) True\n",
      "(predicted, label) : (other, other) True\n",
      "(predicted, label) : (abstract, abstract) True\n",
      "(predicted, label) : (of, things) False\n",
      "(predicted, label) : (called, called) True\n",
      "(predicted, label) : (data., data.) True\n",
      "(predicted, label) : (The, The) True\n",
      "(predicted, label) : (evolution, evolution) True\n",
      "(predicted, label) : (of, of) True\n",
      "(predicted, label) : (a, a) True\n",
      "(predicted, label) : (process, process) True\n",
      "(predicted, label) : (is, is) True\n",
      "(predicted, label) : (directed, directed) True\n",
      "(predicted, label) : (by, by) True\n",
      "(predicted, label) : (a, a) True\n",
      "(predicted, label) : (pattern, pattern) True\n",
      "(predicted, label) : (of, of) True\n",
      "(predicted, label) : (rules, rules) True\n",
      "(predicted, label) : (of, called) False\n",
      "(predicted, label) : (a, a) True\n",
      "(predicted, label) : (program., program.) True\n",
      "(predicted, label) : (People, People) True\n",
      "(predicted, label) : (create, create) True\n",
      "(predicted, label) : (programs, programs) True\n",
      "(predicted, label) : (to, to) True\n",
      "(predicted, label) : (direct, direct) True\n",
      "(predicted, label) : (processes., processes.) True\n",
      "(predicted, label) : (In, In) True\n",
      "(predicted, label) : (effect,, effect,) True\n",
      "(predicted, label) : (we, we) True\n",
      "(predicted, label) : (conjure, conjure) True\n",
      "(predicted, label) : (the, the) True\n",
      "(predicted, label) : (spirits, spirits) True\n",
      "(predicted, label) : (of, of) True\n",
      "(predicted, label) : (the, the) True\n",
      "(predicted, label) : (computer, computer) True\n",
      "(predicted, label) : (with, with) True\n",
      "Accuracy: 93.1% (54/58)\n"
     ]
    }
   ],
   "source": [
    "def test_cbow(test_data, model):\n",
    "    print('====Test CBOW===')\n",
    "    correct_ct = 0\n",
    "    for ctx, target in test_data:\n",
    "        ctx_idxs = [w2i[w] for w in ctx]\n",
    "        ctx_var = Variable(torch.LongTensor(ctx_idxs))\n",
    "\n",
    "        model.zero_grad()\n",
    "        log_probs = model(ctx_var)\n",
    "        _, predicted = torch.max(log_probs.data, 1)\n",
    "        predicted_word = i2w[predicted[0].item()]\n",
    "        print('(predicted, label) : ({}, {}) {}'.format(predicted_word, target, predicted_word == target))\n",
    "        if predicted_word == target:\n",
    "            correct_ct += 1\n",
    "            \n",
    "    print('Accuracy: {:.1f}% ({:d}/{:d})'.format(correct_ct/len(test_data)*100, correct_ct, len(test_data)))\n",
    "\n",
    "test_cbow(cbow_train, cbow_model)"
   ]
  },
  {
   "cell_type": "code",
   "execution_count": 87,
   "metadata": {},
   "outputs": [
    {
     "data": {
      "text/plain": [
       "<Figure size 432x288 with 0 Axes>"
      ]
     },
     "metadata": {},
     "output_type": "display_data"
    },
    {
     "data": {
      "image/png": "[encoded data removed]",
      "text/plain": [
       "<Figure size 432x288 with 1 Axes>"
      ]
     },
     "metadata": {
      "needs_background": "light"
     },
     "output_type": "display_data"
    }
   ],
   "source": [
    "%matplotlib inline\n",
    "import matplotlib.pyplot as plt\n",
    "import numpy as np\n",
    "\n",
    "def showPlot(points, title):\n",
    "    plt.figure()\n",
    "    fig, ax = plt.subplots()\n",
    "    plt.plot(points)\n",
    "\n",
    "showPlot(cbow_losses, 'CBOW Losses')"
   ]
  }
 ],
 "metadata": {
  "kernelspec": {
   "display_name": "Python 3",
   "language": "python",
   "name": "python3"
  },
  "language_info": {
   "codemirror_mode": {
    "name": "ipython",
    "version": 3
   },
   "file_extension": ".py",
   "mimetype": "text/x-python",
   "name": "python",
   "nbconvert_exporter": "python",
   "pygments_lexer": "ipython3",
   "version": "3.7.3"
  }
 },
 "nbformat": 4,
 "nbformat_minor": 2
}
